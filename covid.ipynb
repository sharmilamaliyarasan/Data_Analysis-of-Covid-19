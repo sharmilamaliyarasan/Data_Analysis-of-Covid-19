{
 "cells": [
  {
   "cell_type": "code",
   "execution_count": 5,
   "id": "49c85fc3",
   "metadata": {},
   "outputs": [],
   "source": [
    "import numpy as np\n",
    "import pandas as pd\n",
    "import matplotlib.pyplot as plt\n",
    "import seaborn as sns"
   ]
  },
  {
   "cell_type": "markdown",
   "id": "6a47e9d7",
   "metadata": {},
   "source": [
    "Part 1"
   ]
  },
  {
   "cell_type": "markdown",
   "id": "db201819",
   "metadata": {},
   "source": [
    "Basic Data Understanding (Pandas)"
   ]
  },
  {
   "cell_type": "code",
   "execution_count": 109,
   "id": "deb70da3",
   "metadata": {},
   "outputs": [],
   "source": [
    "data1 = pd.read_csv('covid_19_clean_complete.csv')"
   ]
  },
  {
   "cell_type": "code",
   "execution_count": 7,
   "id": "cfe78a15",
   "metadata": {},
   "outputs": [
    {
     "data": {
      "text/html": [
       "<div>\n",
       "<style scoped>\n",
       "    .dataframe tbody tr th:only-of-type {\n",
       "        vertical-align: middle;\n",
       "    }\n",
       "\n",
       "    .dataframe tbody tr th {\n",
       "        vertical-align: top;\n",
       "    }\n",
       "\n",
       "    .dataframe thead th {\n",
       "        text-align: right;\n",
       "    }\n",
       "</style>\n",
       "<table border=\"1\" class=\"dataframe\">\n",
       "  <thead>\n",
       "    <tr style=\"text-align: right;\">\n",
       "      <th></th>\n",
       "      <th>Province/State</th>\n",
       "      <th>Country/Region</th>\n",
       "      <th>Lat</th>\n",
       "      <th>Long</th>\n",
       "      <th>Date</th>\n",
       "      <th>Confirmed</th>\n",
       "      <th>Deaths</th>\n",
       "      <th>Recovered</th>\n",
       "      <th>Active</th>\n",
       "      <th>WHO Region</th>\n",
       "    </tr>\n",
       "  </thead>\n",
       "  <tbody>\n",
       "    <tr>\n",
       "      <th>0</th>\n",
       "      <td>NaN</td>\n",
       "      <td>Afghanistan</td>\n",
       "      <td>33.93911</td>\n",
       "      <td>67.709953</td>\n",
       "      <td>2020-01-22</td>\n",
       "      <td>0</td>\n",
       "      <td>0</td>\n",
       "      <td>0</td>\n",
       "      <td>0</td>\n",
       "      <td>Eastern Mediterranean</td>\n",
       "    </tr>\n",
       "    <tr>\n",
       "      <th>1</th>\n",
       "      <td>NaN</td>\n",
       "      <td>Albania</td>\n",
       "      <td>41.15330</td>\n",
       "      <td>20.168300</td>\n",
       "      <td>2020-01-22</td>\n",
       "      <td>0</td>\n",
       "      <td>0</td>\n",
       "      <td>0</td>\n",
       "      <td>0</td>\n",
       "      <td>Europe</td>\n",
       "    </tr>\n",
       "    <tr>\n",
       "      <th>2</th>\n",
       "      <td>NaN</td>\n",
       "      <td>Algeria</td>\n",
       "      <td>28.03390</td>\n",
       "      <td>1.659600</td>\n",
       "      <td>2020-01-22</td>\n",
       "      <td>0</td>\n",
       "      <td>0</td>\n",
       "      <td>0</td>\n",
       "      <td>0</td>\n",
       "      <td>Africa</td>\n",
       "    </tr>\n",
       "    <tr>\n",
       "      <th>3</th>\n",
       "      <td>NaN</td>\n",
       "      <td>Andorra</td>\n",
       "      <td>42.50630</td>\n",
       "      <td>1.521800</td>\n",
       "      <td>2020-01-22</td>\n",
       "      <td>0</td>\n",
       "      <td>0</td>\n",
       "      <td>0</td>\n",
       "      <td>0</td>\n",
       "      <td>Europe</td>\n",
       "    </tr>\n",
       "    <tr>\n",
       "      <th>4</th>\n",
       "      <td>NaN</td>\n",
       "      <td>Angola</td>\n",
       "      <td>-11.20270</td>\n",
       "      <td>17.873900</td>\n",
       "      <td>2020-01-22</td>\n",
       "      <td>0</td>\n",
       "      <td>0</td>\n",
       "      <td>0</td>\n",
       "      <td>0</td>\n",
       "      <td>Africa</td>\n",
       "    </tr>\n",
       "    <tr>\n",
       "      <th>5</th>\n",
       "      <td>NaN</td>\n",
       "      <td>Antigua and Barbuda</td>\n",
       "      <td>17.06080</td>\n",
       "      <td>-61.796400</td>\n",
       "      <td>2020-01-22</td>\n",
       "      <td>0</td>\n",
       "      <td>0</td>\n",
       "      <td>0</td>\n",
       "      <td>0</td>\n",
       "      <td>Americas</td>\n",
       "    </tr>\n",
       "    <tr>\n",
       "      <th>6</th>\n",
       "      <td>NaN</td>\n",
       "      <td>Argentina</td>\n",
       "      <td>-38.41610</td>\n",
       "      <td>-63.616700</td>\n",
       "      <td>2020-01-22</td>\n",
       "      <td>0</td>\n",
       "      <td>0</td>\n",
       "      <td>0</td>\n",
       "      <td>0</td>\n",
       "      <td>Americas</td>\n",
       "    </tr>\n",
       "    <tr>\n",
       "      <th>7</th>\n",
       "      <td>NaN</td>\n",
       "      <td>Armenia</td>\n",
       "      <td>40.06910</td>\n",
       "      <td>45.038200</td>\n",
       "      <td>2020-01-22</td>\n",
       "      <td>0</td>\n",
       "      <td>0</td>\n",
       "      <td>0</td>\n",
       "      <td>0</td>\n",
       "      <td>Europe</td>\n",
       "    </tr>\n",
       "    <tr>\n",
       "      <th>8</th>\n",
       "      <td>Australian Capital Territory</td>\n",
       "      <td>Australia</td>\n",
       "      <td>-35.47350</td>\n",
       "      <td>149.012400</td>\n",
       "      <td>2020-01-22</td>\n",
       "      <td>0</td>\n",
       "      <td>0</td>\n",
       "      <td>0</td>\n",
       "      <td>0</td>\n",
       "      <td>Western Pacific</td>\n",
       "    </tr>\n",
       "    <tr>\n",
       "      <th>9</th>\n",
       "      <td>New South Wales</td>\n",
       "      <td>Australia</td>\n",
       "      <td>-33.86880</td>\n",
       "      <td>151.209300</td>\n",
       "      <td>2020-01-22</td>\n",
       "      <td>0</td>\n",
       "      <td>0</td>\n",
       "      <td>0</td>\n",
       "      <td>0</td>\n",
       "      <td>Western Pacific</td>\n",
       "    </tr>\n",
       "  </tbody>\n",
       "</table>\n",
       "</div>"
      ],
      "text/plain": [
       "                 Province/State       Country/Region       Lat        Long  \\\n",
       "0                           NaN          Afghanistan  33.93911   67.709953   \n",
       "1                           NaN              Albania  41.15330   20.168300   \n",
       "2                           NaN              Algeria  28.03390    1.659600   \n",
       "3                           NaN              Andorra  42.50630    1.521800   \n",
       "4                           NaN               Angola -11.20270   17.873900   \n",
       "5                           NaN  Antigua and Barbuda  17.06080  -61.796400   \n",
       "6                           NaN            Argentina -38.41610  -63.616700   \n",
       "7                           NaN              Armenia  40.06910   45.038200   \n",
       "8  Australian Capital Territory            Australia -35.47350  149.012400   \n",
       "9               New South Wales            Australia -33.86880  151.209300   \n",
       "\n",
       "         Date  Confirmed  Deaths  Recovered  Active             WHO Region  \n",
       "0  2020-01-22          0       0          0       0  Eastern Mediterranean  \n",
       "1  2020-01-22          0       0          0       0                 Europe  \n",
       "2  2020-01-22          0       0          0       0                 Africa  \n",
       "3  2020-01-22          0       0          0       0                 Europe  \n",
       "4  2020-01-22          0       0          0       0                 Africa  \n",
       "5  2020-01-22          0       0          0       0               Americas  \n",
       "6  2020-01-22          0       0          0       0               Americas  \n",
       "7  2020-01-22          0       0          0       0                 Europe  \n",
       "8  2020-01-22          0       0          0       0        Western Pacific  \n",
       "9  2020-01-22          0       0          0       0        Western Pacific  "
      ]
     },
     "execution_count": 7,
     "metadata": {},
     "output_type": "execute_result"
    }
   ],
   "source": [
    "data1.head(10)"
   ]
  },
  {
   "cell_type": "markdown",
   "id": "c5bf4763",
   "metadata": {},
   "source": [
    "The shape, column names, and data types"
   ]
  },
  {
   "cell_type": "code",
   "execution_count": 8,
   "id": "e07588b9",
   "metadata": {},
   "outputs": [
    {
     "data": {
      "text/plain": [
       "(49068, 10)"
      ]
     },
     "execution_count": 8,
     "metadata": {},
     "output_type": "execute_result"
    }
   ],
   "source": [
    "data1.shape"
   ]
  },
  {
   "cell_type": "code",
   "execution_count": 9,
   "id": "0ff1a847",
   "metadata": {},
   "outputs": [
    {
     "data": {
      "text/plain": [
       "Index(['Province/State', 'Country/Region', 'Lat', 'Long', 'Date', 'Confirmed',\n",
       "       'Deaths', 'Recovered', 'Active', 'WHO Region'],\n",
       "      dtype='object')"
      ]
     },
     "execution_count": 9,
     "metadata": {},
     "output_type": "execute_result"
    }
   ],
   "source": [
    "data1.columns"
   ]
  },
  {
   "cell_type": "code",
   "execution_count": 10,
   "id": "82008283",
   "metadata": {},
   "outputs": [
    {
     "data": {
      "text/plain": [
       "Province/State     object\n",
       "Country/Region     object\n",
       "Lat               float64\n",
       "Long              float64\n",
       "Date               object\n",
       "Confirmed           int64\n",
       "Deaths              int64\n",
       "Recovered           int64\n",
       "Active              int64\n",
       "WHO Region         object\n",
       "dtype: object"
      ]
     },
     "execution_count": 10,
     "metadata": {},
     "output_type": "execute_result"
    }
   ],
   "source": [
    "data1.dtypes"
   ]
  },
  {
   "cell_type": "markdown",
   "id": "2bd6932d",
   "metadata": {},
   "source": [
    "Missing values and Duplicate Values"
   ]
  },
  {
   "cell_type": "code",
   "execution_count": 11,
   "id": "f0df2ea6",
   "metadata": {},
   "outputs": [
    {
     "data": {
      "text/plain": [
       "Province/State    34404\n",
       "Country/Region        0\n",
       "Lat                   0\n",
       "Long                  0\n",
       "Date                  0\n",
       "Confirmed             0\n",
       "Deaths                0\n",
       "Recovered             0\n",
       "Active                0\n",
       "WHO Region            0\n",
       "dtype: int64"
      ]
     },
     "execution_count": 11,
     "metadata": {},
     "output_type": "execute_result"
    }
   ],
   "source": [
    "data1.isnull().sum()"
   ]
  },
  {
   "cell_type": "code",
   "execution_count": 12,
   "id": "d5c14d8d",
   "metadata": {},
   "outputs": [
    {
     "data": {
      "text/plain": [
       "np.int64(0)"
      ]
     },
     "execution_count": 12,
     "metadata": {},
     "output_type": "execute_result"
    }
   ],
   "source": [
    "data1.duplicated().sum()"
   ]
  },
  {
   "cell_type": "code",
   "execution_count": 13,
   "id": "34855f76",
   "metadata": {},
   "outputs": [
    {
     "data": {
      "text/html": [
       "<div>\n",
       "<style scoped>\n",
       "    .dataframe tbody tr th:only-of-type {\n",
       "        vertical-align: middle;\n",
       "    }\n",
       "\n",
       "    .dataframe tbody tr th {\n",
       "        vertical-align: top;\n",
       "    }\n",
       "\n",
       "    .dataframe thead th {\n",
       "        text-align: right;\n",
       "    }\n",
       "</style>\n",
       "<table border=\"1\" class=\"dataframe\">\n",
       "  <thead>\n",
       "    <tr style=\"text-align: right;\">\n",
       "      <th></th>\n",
       "      <th>Lat</th>\n",
       "      <th>Long</th>\n",
       "      <th>Confirmed</th>\n",
       "      <th>Deaths</th>\n",
       "      <th>Recovered</th>\n",
       "      <th>Active</th>\n",
       "    </tr>\n",
       "  </thead>\n",
       "  <tbody>\n",
       "    <tr>\n",
       "      <th>count</th>\n",
       "      <td>49068.000000</td>\n",
       "      <td>49068.000000</td>\n",
       "      <td>4.906800e+04</td>\n",
       "      <td>49068.000000</td>\n",
       "      <td>4.906800e+04</td>\n",
       "      <td>4.906800e+04</td>\n",
       "    </tr>\n",
       "    <tr>\n",
       "      <th>mean</th>\n",
       "      <td>21.433730</td>\n",
       "      <td>23.528236</td>\n",
       "      <td>1.688490e+04</td>\n",
       "      <td>884.179160</td>\n",
       "      <td>7.915713e+03</td>\n",
       "      <td>8.085012e+03</td>\n",
       "    </tr>\n",
       "    <tr>\n",
       "      <th>std</th>\n",
       "      <td>24.950320</td>\n",
       "      <td>70.442740</td>\n",
       "      <td>1.273002e+05</td>\n",
       "      <td>6313.584411</td>\n",
       "      <td>5.480092e+04</td>\n",
       "      <td>7.625890e+04</td>\n",
       "    </tr>\n",
       "    <tr>\n",
       "      <th>min</th>\n",
       "      <td>-51.796300</td>\n",
       "      <td>-135.000000</td>\n",
       "      <td>0.000000e+00</td>\n",
       "      <td>0.000000</td>\n",
       "      <td>0.000000e+00</td>\n",
       "      <td>-1.400000e+01</td>\n",
       "    </tr>\n",
       "    <tr>\n",
       "      <th>25%</th>\n",
       "      <td>7.873054</td>\n",
       "      <td>-15.310100</td>\n",
       "      <td>4.000000e+00</td>\n",
       "      <td>0.000000</td>\n",
       "      <td>0.000000e+00</td>\n",
       "      <td>0.000000e+00</td>\n",
       "    </tr>\n",
       "    <tr>\n",
       "      <th>50%</th>\n",
       "      <td>23.634500</td>\n",
       "      <td>21.745300</td>\n",
       "      <td>1.680000e+02</td>\n",
       "      <td>2.000000</td>\n",
       "      <td>2.900000e+01</td>\n",
       "      <td>2.600000e+01</td>\n",
       "    </tr>\n",
       "    <tr>\n",
       "      <th>75%</th>\n",
       "      <td>41.204380</td>\n",
       "      <td>80.771797</td>\n",
       "      <td>1.518250e+03</td>\n",
       "      <td>30.000000</td>\n",
       "      <td>6.660000e+02</td>\n",
       "      <td>6.060000e+02</td>\n",
       "    </tr>\n",
       "    <tr>\n",
       "      <th>max</th>\n",
       "      <td>71.706900</td>\n",
       "      <td>178.065000</td>\n",
       "      <td>4.290259e+06</td>\n",
       "      <td>148011.000000</td>\n",
       "      <td>1.846641e+06</td>\n",
       "      <td>2.816444e+06</td>\n",
       "    </tr>\n",
       "  </tbody>\n",
       "</table>\n",
       "</div>"
      ],
      "text/plain": [
       "                Lat          Long     Confirmed         Deaths     Recovered  \\\n",
       "count  49068.000000  49068.000000  4.906800e+04   49068.000000  4.906800e+04   \n",
       "mean      21.433730     23.528236  1.688490e+04     884.179160  7.915713e+03   \n",
       "std       24.950320     70.442740  1.273002e+05    6313.584411  5.480092e+04   \n",
       "min      -51.796300   -135.000000  0.000000e+00       0.000000  0.000000e+00   \n",
       "25%        7.873054    -15.310100  4.000000e+00       0.000000  0.000000e+00   \n",
       "50%       23.634500     21.745300  1.680000e+02       2.000000  2.900000e+01   \n",
       "75%       41.204380     80.771797  1.518250e+03      30.000000  6.660000e+02   \n",
       "max       71.706900    178.065000  4.290259e+06  148011.000000  1.846641e+06   \n",
       "\n",
       "             Active  \n",
       "count  4.906800e+04  \n",
       "mean   8.085012e+03  \n",
       "std    7.625890e+04  \n",
       "min   -1.400000e+01  \n",
       "25%    0.000000e+00  \n",
       "50%    2.600000e+01  \n",
       "75%    6.060000e+02  \n",
       "max    2.816444e+06  "
      ]
     },
     "execution_count": 13,
     "metadata": {},
     "output_type": "execute_result"
    }
   ],
   "source": [
    "data1.describe()"
   ]
  },
  {
   "cell_type": "code",
   "execution_count": 110,
   "id": "8ab8b42d",
   "metadata": {},
   "outputs": [
    {
     "name": "stdout",
     "output_type": "stream",
     "text": [
      "187\n"
     ]
    }
   ],
   "source": [
    "print(data1['Country/Region'].nunique())\n"
   ]
  },
  {
   "cell_type": "code",
   "execution_count": 15,
   "id": "87066cca",
   "metadata": {},
   "outputs": [
    {
     "name": "stdout",
     "output_type": "stream",
     "text": [
      "Latest date in dataset: 2020-07-27 00:00:00\n"
     ]
    }
   ],
   "source": [
    "data1['Date'] = pd.to_datetime(data1['Date'])\n",
    "latest_date = data1['Date'].max()\n",
    "print(\"Latest date in dataset:\", latest_date)"
   ]
  },
  {
   "cell_type": "markdown",
   "id": "1d93fa5d",
   "metadata": {},
   "source": [
    "Part 2 – EDA (Exploratory Data Analysis)"
   ]
  },
  {
   "cell_type": "markdown",
   "id": "ed4df750",
   "metadata": {},
   "source": [
    "Histogram of confirmed cases."
   ]
  },
  {
   "cell_type": "code",
   "execution_count": 16,
   "id": "099ac97c",
   "metadata": {},
   "outputs": [
    {
     "data": {
      "image/png": "[encoded data removed]",
      "text/plain": [
       "<Figure size 800x500 with 1 Axes>"
      ]
     },
     "metadata": {},
     "output_type": "display_data"
    }
   ],
   "source": [
    "plt.figure(figsize=(8,5))\n",
    "sns.histplot(data1['Confirmed'], bins=50, color='purple')\n",
    "plt.title(\"Histogram of Confirmed Cases\")\n",
    "plt.xlabel(\"Confirmed Cases\")\n",
    "plt.ylabel(\"Frequency\")\n",
    "plt.show()\n"
   ]
  },
  {
   "cell_type": "code",
   "execution_count": 17,
   "id": "7c593cd4",
   "metadata": {},
   "outputs": [],
   "source": [
    "latest_df = data1[data1['Date'] == latest_date]"
   ]
  },
  {
   "cell_type": "code",
   "execution_count": 18,
   "id": "38503bca",
   "metadata": {},
   "outputs": [
    {
     "data": {
      "image/png": "[encoded data removed]",
      "text/plain": [
       "<Figure size 1000x500 with 1 Axes>"
      ]
     },
     "metadata": {},
     "output_type": "display_data"
    }
   ],
   "source": [
    "top10_confirmed = latest_df.groupby('Country/Region')['Confirmed'].sum().sort_values(ascending=False).head(10)\n",
    "plt.figure(figsize=(10,5))\n",
    "sns.barplot(x=top10_confirmed.values, y=top10_confirmed.index, hue=top10_confirmed.index, palette='Blues_r',legend=False)\n",
    "plt.title(\"Top 10 Countries by Confirmed Cases (Latest Date)\")\n",
    "plt.xlabel(\"Confirmed Cases\")\n",
    "plt.ylabel(\"Country\")\n",
    "plt.show()"
   ]
  },
  {
   "cell_type": "code",
   "execution_count": 19,
   "id": "30bcac97",
   "metadata": {},
   "outputs": [
    {
     "data": {
      "image/png": "[encoded data removed]",
      "text/plain": [
       "<Figure size 1000x500 with 1 Axes>"
      ]
     },
     "metadata": {},
     "output_type": "display_data"
    }
   ],
   "source": [
    "top10_deaths = latest_df.groupby('Country/Region')['Deaths'].sum().sort_values(ascending=False).head(10)\n",
    "plt.figure(figsize=(10,5))\n",
    "sns.barplot(x=top10_deaths.values,y=top10_deaths.index,hue=top10_deaths.index,palette='Reds_r',legend=False)\n",
    "plt.title(\"Top 10 Countries by Death Count (Latest Date)\")\n",
    "plt.xlabel(\"Deaths\")\n",
    "plt.ylabel(\"Country\")\n",
    "plt.show()"
   ]
  },
  {
   "cell_type": "code",
   "execution_count": 20,
   "id": "6f7f305e",
   "metadata": {},
   "outputs": [
    {
     "data": {
      "image/png": "[encoded data removed]",
      "text/plain": [
       "<Figure size 800x600 with 1 Axes>"
      ]
     },
     "metadata": {},
     "output_type": "display_data"
    }
   ],
   "source": [
    "plt.figure(figsize=(8,6))\n",
    "sns.scatterplot(data=latest_df, x='Confirmed', y='Deaths', hue='Country/Region', legend=False)\n",
    "plt.title(\"Confirmed vs Deaths (Latest Date)\")\n",
    "plt.xlabel(\"Confirmed Cases\")\n",
    "plt.ylabel(\"Deaths\")\n",
    "plt.show()"
   ]
  },
  {
   "cell_type": "code",
   "execution_count": 21,
   "id": "8cc3f1ed",
   "metadata": {},
   "outputs": [
    {
     "data": {
      "image/png": "[encoded data removed]",
      "text/plain": [
       "<Figure size 1000x500 with 1 Axes>"
      ]
     },
     "metadata": {},
     "output_type": "display_data"
    }
   ],
   "source": [
    "india_data = data1[data1['Country/Region'] == \"India\"].groupby('Date')['Confirmed'].sum()\n",
    "plt.figure(figsize=(10,5))\n",
    "plt.plot(india_data.index, india_data.values, marker='o', color='blue')\n",
    "plt.title(\"Confirmed Cases in India Over Time\")\n",
    "plt.xlabel(\"Date\")\n",
    "plt.ylabel(\"Confirmed Cases\")\n",
    "plt.xticks(rotation=45)\n",
    "plt.show()"
   ]
  },
  {
   "cell_type": "code",
   "execution_count": 22,
   "id": "17022db5",
   "metadata": {},
   "outputs": [
    {
     "data": {
      "image/png": "[encoded data removed]",
      "text/plain": [
       "<Figure size 640x480 with 1 Axes>"
      ]
     },
     "metadata": {},
     "output_type": "display_data"
    }
   ],
   "source": [
    "continent_df = latest_df.groupby('WHO Region')['Confirmed'].sum()\n",
    "continent_df.plot(kind='bar')\n",
    "plt.title('Total Confirmed Cases by WHO Region')\n",
    "plt.show()"
   ]
  },
  {
   "cell_type": "markdown",
   "id": "53271010",
   "metadata": {},
   "source": [
    "Part 3 – Statistics"
   ]
  },
  {
   "cell_type": "code",
   "execution_count": null,
   "id": "d24a8d68",
   "metadata": {},
   "outputs": [],
   "source": [
    "latest_df = data1[data1['Date'] == data1['Date'].max()]"
   ]
  },
  {
   "cell_type": "code",
   "execution_count": 58,
   "id": "52485d2c",
   "metadata": {},
   "outputs": [
    {
     "name": "stdout",
     "output_type": "stream",
     "text": [
      "Mean Confirmed Cases: 63143.620689655174\n",
      "Median Confirmed Cases: 1879.0\n",
      "Mode Confirmed Cases: 12\n"
     ]
    }
   ],
   "source": [
    "mean_confirmed = latest_df['Confirmed'].mean()\n",
    "median_confirmed = latest_df['Confirmed'].median()\n",
    "mode_confirmed = latest_df['Confirmed'].mode()[0]\n",
    "\n",
    "print(\"Mean Confirmed Cases:\", mean_confirmed)\n",
    "print(\"Median Confirmed Cases:\", median_confirmed)\n",
    "print(\"Mode Confirmed Cases:\", mode_confirmed)"
   ]
  },
  {
   "cell_type": "code",
   "execution_count": 57,
   "id": "3643ca39",
   "metadata": {},
   "outputs": [
    {
     "name": "stdout",
     "output_type": "stream",
     "text": [
      "Variance of Deaths: 144503717.1098144\n",
      "Standard Deviation of Deaths: 12020.969890562676\n"
     ]
    }
   ],
   "source": [
    "variance_deaths = latest_df['Deaths'].var()\n",
    "std_deaths = latest_df['Deaths'].std()\n",
    "\n",
    "print(\"Variance of Deaths:\", variance_deaths)\n",
    "print(\"Standard Deviation of Deaths:\", std_deaths)\n"
   ]
  },
  {
   "cell_type": "code",
   "execution_count": 56,
   "id": "3643ee63",
   "metadata": {},
   "outputs": [
    {
     "name": "stdout",
     "output_type": "stream",
     "text": [
      "Correlation between Confirmed and Deaths: 0.9355481171091944\n"
     ]
    }
   ],
   "source": [
    "correlation = latest_df['Confirmed'].corr(latest_df['Deaths'])\n",
    "print(\"Correlation between Confirmed and Deaths:\", correlation)"
   ]
  },
  {
   "cell_type": "code",
   "execution_count": 59,
   "id": "b8d5b173",
   "metadata": {},
   "outputs": [
    {
     "name": "stdout",
     "output_type": "stream",
     "text": [
      "Probability(Confirmed > 100k): 0.08812260536398467\n"
     ]
    }
   ],
   "source": [
    "prob_confirmed_over_100k = (latest_df['Confirmed'] > 100000).mean()\n",
    "print(\"Probability(Confirmed > 100k):\", prob_confirmed_over_100k)"
   ]
  },
  {
   "cell_type": "code",
   "execution_count": 29,
   "id": "e6954314",
   "metadata": {},
   "outputs": [
    {
     "name": "stdout",
     "output_type": "stream",
     "text": [
      "Probability(Death Rate > 5%): 0.16091954022988506\n"
     ]
    }
   ],
   "source": [
    "latest_df = data1[data1['Date'] == data1['Date'].max()].copy()\n",
    "latest_df['death_rate'] = (latest_df['Deaths'] / latest_df['Confirmed']) * 100\n",
    "prob_death_rate_over_5 = (latest_df['death_rate'] > 5).mean()\n",
    "print(\"Probability(Death Rate > 5%):\", prob_death_rate_over_5)"
   ]
  },
  {
   "cell_type": "markdown",
   "id": "17169879",
   "metadata": {},
   "source": [
    "Part 4 – Linear Algebra & NumPy"
   ]
  },
  {
   "cell_type": "code",
   "execution_count": 61,
   "id": "56e3a996",
   "metadata": {},
   "outputs": [],
   "source": [
    "latest_df = data1[data1['Date'] == data1['Date'].max()]\n",
    "valid_cases_df = latest_df[latest_df['Confirmed'] > 0].copy()"
   ]
  },
  {
   "cell_type": "code",
   "execution_count": 63,
   "id": "70f883e3",
   "metadata": {},
   "outputs": [],
   "source": [
    "confirmed = np.array(valid_cases_df['Confirmed'])\n",
    "deaths = np.array(valid_cases_df['Deaths'])"
   ]
  },
  {
   "cell_type": "code",
   "execution_count": 64,
   "id": "a85e10ae",
   "metadata": {},
   "outputs": [
    {
     "name": "stdout",
     "output_type": "stream",
     "text": [
      "Confirmed array: [  36263    4880   27973     907     950      86  167416   37390     113\n",
      "    3699      31    1076     447     229    9049     659   20558   30446\n",
      "     382   39482  226225     110   67251   66428    1770      99   71181\n",
      "   10498 2442375     141   10621    1100    2328     226   17110   10390\n",
      "    3500     400     170     266    1067   40673      36   58728    1209\n",
      "    4599     922  347923     991     931     583     366     167    1672\n",
      "     255     147     171     349     947    1276    2778   68135    1019\n",
      "     258     655     932     157     209      46      75      18     323\n",
      "     799     743     201     604     204       1     311     190    1270\n",
      "  257101    3200    8844   15841   15655    4881    2532    1060   15516\n",
      "     214      14   13547    5059   64156   81161   92482   15035    3071\n",
      "     265    2034    2316   14547      27    7398    7514      62     203\n",
      "    2900      22     657       7      49     269  208665    7189     326\n",
      "    1137  207112   33624    4227   45309    7055     389    7340      12\n",
      "   39741    4448    1854 1480073  100303  293606  112585   25892   63985\n",
      "  246286     853   31142    1176   84648   17975   14203   64379   33296\n",
      "    1219    3882    1167      86    2019    6321    9690    8904    3369\n",
      "     701    6208     344  395489   23154     116     289    2893   20887\n",
      "    1843   18752     119      29     114   53151    1557    3439    1132\n",
      "   41180   10213    9132   77058  274289   61442      62    4548  389717\n",
      "   82040   43402   50299  109597   45902  816680    1879      24      52\n",
      "     699  268934    9764   24141     114   50838    2181    2087    3196\n",
      "  452529  272421    2805   11424    1483   79395   34477     462     509\n",
      "    3297     874     148    1455  227019    1128   67096   59177     154\n",
      "     203     584     185     336      12  300111    1202 4290259   21209\n",
      "   15988     431    4552    2704      18      23    1701     674      24\n",
      "      48      20    2827   10621    1954    2513      17       5      14\n",
      "    7413     350       3       8      99     739     378    1783    3664\n",
      "      13       4    2305      10     865    1691     354    7235     505]\n",
      "Deaths array: [  1269    144   1163     52     41      3   3059    711      3     49\n",
      "      0      6      4     13     83      9    713    423     11    141\n",
      "   2965      7    538   9822     35      0   2647    294  87618      3\n",
      "    347     53     22      0    391    186    193      7      2      3\n",
      "     63   2807      0   5667     16     59     75   9187      6      9\n",
      "      6      1      2      8      2      2      6      6     13     22\n",
      "     22   4512      4      1      0      1      2      2      0      0\n",
      "      0      3      7      7      0      3      3      0      3      2\n",
      "      1   8777     54    208    115     96    139     87     19    373\n",
      "      0      0    613     58   1083   5532   4652    408     51      0\n",
      "     69     34    228      0    329     42      0     14     38      0\n",
      "      4      0      3     15  30096     49      8     16   9125    168\n",
      "    202   1761     45     20    158      0   1166    596     10  33408\n",
      "   4838  15912   4458   1764    474  35112     10    998     11    585\n",
      "    285    300    438   1301     31     51     72      1     80    112\n",
      "     91    124     15      9    156     10  44022    748      4      0\n",
      "     45    316      8     48      3      1     15   6141     22    108\n",
      "     69    860    466    255    393   5842   1322      0     43  18418\n",
      "   1945   1676   1719    165   2206  13334      5      0      0     42\n",
      "   2760    194    543      0     27     28    116     93   7067  28432\n",
      "     11    720     24   5700   1978      7     21     58     18      8\n",
      "     50   5630      2   1636    345      9      1     47      0     24\n",
      "      1  45759     35 148011    121    146      0    140     36      0\n",
      "      0     11     40      0      2      0     64     78     26    124\n",
      "      0      0      0    185      6      0      1      2      2      1\n",
      "     66     99      0      0     46      1     14    483      7     60\n",
      "     12]\n"
     ]
    }
   ],
   "source": [
    "print(\"Confirmed array:\", confirmed)\n",
    "print(\"Deaths array:\", deaths)"
   ]
  },
  {
   "cell_type": "code",
   "execution_count": 66,
   "id": "98889f60",
   "metadata": {},
   "outputs": [
    {
     "name": "stdout",
     "output_type": "stream",
     "text": [
      "Difference (Confirmed - Deaths): [34994  4736 26810   855   909]\n"
     ]
    }
   ],
   "source": [
    "diff = confirmed - deaths\n",
    "print(\"Difference (Confirmed - Deaths):\", diff[:5])"
   ]
  },
  {
   "cell_type": "code",
   "execution_count": 67,
   "id": "e718dbfe",
   "metadata": {},
   "outputs": [
    {
     "name": "stdout",
     "output_type": "stream",
     "text": [
      "Dot product: 996117088650\n"
     ]
    }
   ],
   "source": [
    "dot_product = np.dot(confirmed, deaths)\n",
    "print(\"Dot product:\", dot_product)"
   ]
  },
  {
   "cell_type": "code",
   "execution_count": 69,
   "id": "5e1ae310",
   "metadata": {},
   "outputs": [
    {
     "name": "stdout",
     "output_type": "stream",
     "text": [
      "Weighted Result: [25764.8  3459.2 19930.    650.5   677.3]\n"
     ]
    }
   ],
   "source": [
    "matrix = np.vstack((confirmed, deaths)).T  \n",
    "weights = np.array([0.7, 0.3])\n",
    "weighted_result = matrix @ weights\n",
    "print(\"Weighted Result:\", weighted_result[:5])"
   ]
  },
  {
   "cell_type": "code",
   "execution_count": 71,
   "id": "05ba3286",
   "metadata": {},
   "outputs": [
    {
     "name": "stdout",
     "output_type": "stream",
     "text": [
      "Normalized Confirmed: [0.00845217 0.00113723 0.00651989 0.00021118 0.0002212 ]\n"
     ]
    }
   ],
   "source": [
    "confirmed_normalized = (confirmed - np.min(confirmed)) / (np.max(confirmed) - np.min(confirmed))\n",
    "print(\"Normalized Confirmed:\", confirmed_normalized[:5])"
   ]
  },
  {
   "cell_type": "code",
   "execution_count": 73,
   "id": "93811b0a",
   "metadata": {},
   "outputs": [
    {
     "data": {
      "image/png": "[encoded data removed]",
      "text/plain": [
       "<Figure size 1200x600 with 2 Axes>"
      ]
     },
     "metadata": {},
     "output_type": "display_data"
    }
   ],
   "source": [
    "plt.figure(figsize=(12, 6))\n",
    "plt.subplot(1, 2, 1)\n",
    "plt.hist(confirmed, bins=50)\n",
    "plt.title(\"Original Confirmed Cases\")\n",
    "plt.subplot(1, 2, 2)\n",
    "plt.hist(confirmed_normalized, bins=50)\n",
    "plt.title(\"Normalized Confirmed Cases\")\n",
    "plt.tight_layout()\n",
    "plt.show()"
   ]
  },
  {
   "cell_type": "markdown",
   "id": "dbe8da66",
   "metadata": {},
   "source": [
    "Part 5 – Calculus"
   ]
  },
  {
   "cell_type": "code",
   "execution_count": 74,
   "id": "fac944da",
   "metadata": {},
   "outputs": [],
   "source": [
    "sample_data = valid_cases_df[['Country/Region', 'Confirmed', 'Deaths']].head(5).copy()"
   ]
  },
  {
   "cell_type": "code",
   "execution_count": 75,
   "id": "9769f9f5",
   "metadata": {},
   "outputs": [],
   "source": [
    "sample_data['dS_dDeaths'] = 100 / sample_data['Confirmed']"
   ]
  },
  {
   "cell_type": "code",
   "execution_count": 76,
   "id": "cbc750fa",
   "metadata": {},
   "outputs": [
    {
     "name": "stdout",
     "output_type": "stream",
     "text": [
      "      Country/Region  Confirmed  dS_dDeaths\n",
      "48807    Afghanistan      36263    0.002758\n",
      "48808        Albania       4880    0.020492\n",
      "48809        Algeria      27973    0.003575\n",
      "48810        Andorra        907    0.110254\n",
      "48811         Angola        950    0.105263\n"
     ]
    }
   ],
   "source": [
    "print(sample_data[['Country/Region', 'Confirmed', 'dS_dDeaths']])"
   ]
  },
  {
   "cell_type": "markdown",
   "id": "89060cc4",
   "metadata": {},
   "source": [
    "Part 6 – Feature Engineering"
   ]
  },
  {
   "cell_type": "code",
   "execution_count": 37,
   "id": "7ade63aa",
   "metadata": {},
   "outputs": [],
   "source": [
    "data1['death_rate'] = (data1['Deaths'] / data1['Confirmed']) * 100\n"
   ]
  },
  {
   "cell_type": "code",
   "execution_count": 38,
   "id": "76e5d036",
   "metadata": {},
   "outputs": [],
   "source": [
    "data1['recovery_rate'] = (data1['Recovered'] / data1['Confirmed']) * 100\n"
   ]
  },
  {
   "cell_type": "code",
   "execution_count": 79,
   "id": "ddc8f261",
   "metadata": {},
   "outputs": [],
   "source": [
    "data1['high_risk'] = np.where(data1['death_rate'] > 5, 1, 0)\n"
   ]
  },
  {
   "cell_type": "code",
   "execution_count": 40,
   "id": "8ab423f6",
   "metadata": {},
   "outputs": [],
   "source": [
    "data1['confirmed_quartile'] = pd.qcut(data1['Confirmed'], 4, labels=False)\n"
   ]
  },
  {
   "cell_type": "code",
   "execution_count": 41,
   "id": "516f47a4",
   "metadata": {},
   "outputs": [],
   "source": [
    "data1['active_cases'] = data1['Confirmed'] - (data1['Deaths'] + data1['Recovered'])\n"
   ]
  },
  {
   "cell_type": "code",
   "execution_count": 42,
   "id": "191a7630",
   "metadata": {},
   "outputs": [],
   "source": [
    "avg_confirmed = data1['Confirmed'].mean()\n",
    "data1['above_average_confirmed'] = np.where(data1['Confirmed'] > avg_confirmed, 1, 0)"
   ]
  },
  {
   "cell_type": "code",
   "execution_count": 80,
   "id": "44870870",
   "metadata": {},
   "outputs": [
    {
     "data": {
      "text/html": [
       "<div>\n",
       "<style scoped>\n",
       "    .dataframe tbody tr th:only-of-type {\n",
       "        vertical-align: middle;\n",
       "    }\n",
       "\n",
       "    .dataframe tbody tr th {\n",
       "        vertical-align: top;\n",
       "    }\n",
       "\n",
       "    .dataframe thead th {\n",
       "        text-align: right;\n",
       "    }\n",
       "</style>\n",
       "<table border=\"1\" class=\"dataframe\">\n",
       "  <thead>\n",
       "    <tr style=\"text-align: right;\">\n",
       "      <th></th>\n",
       "      <th>Province/State</th>\n",
       "      <th>Country/Region</th>\n",
       "      <th>Lat</th>\n",
       "      <th>Long</th>\n",
       "      <th>Date</th>\n",
       "      <th>Confirmed</th>\n",
       "      <th>Deaths</th>\n",
       "      <th>Recovered</th>\n",
       "      <th>Active</th>\n",
       "      <th>WHO Region</th>\n",
       "      <th>death_rate</th>\n",
       "      <th>recovery_rate</th>\n",
       "      <th>high_risk</th>\n",
       "      <th>confirmed_quartile</th>\n",
       "      <th>active_cases</th>\n",
       "      <th>above_average_confirmed</th>\n",
       "      <th>Continent</th>\n",
       "    </tr>\n",
       "  </thead>\n",
       "  <tbody>\n",
       "    <tr>\n",
       "      <th>0</th>\n",
       "      <td>NaN</td>\n",
       "      <td>Afghanistan</td>\n",
       "      <td>33.93911</td>\n",
       "      <td>67.709953</td>\n",
       "      <td>2020-01-22</td>\n",
       "      <td>0</td>\n",
       "      <td>0</td>\n",
       "      <td>0</td>\n",
       "      <td>0</td>\n",
       "      <td>Eastern Mediterranean</td>\n",
       "      <td>NaN</td>\n",
       "      <td>NaN</td>\n",
       "      <td>0</td>\n",
       "      <td>0</td>\n",
       "      <td>0</td>\n",
       "      <td>0</td>\n",
       "      <td>NaN</td>\n",
       "    </tr>\n",
       "    <tr>\n",
       "      <th>1</th>\n",
       "      <td>NaN</td>\n",
       "      <td>Albania</td>\n",
       "      <td>41.15330</td>\n",
       "      <td>20.168300</td>\n",
       "      <td>2020-01-22</td>\n",
       "      <td>0</td>\n",
       "      <td>0</td>\n",
       "      <td>0</td>\n",
       "      <td>0</td>\n",
       "      <td>Europe</td>\n",
       "      <td>NaN</td>\n",
       "      <td>NaN</td>\n",
       "      <td>0</td>\n",
       "      <td>0</td>\n",
       "      <td>0</td>\n",
       "      <td>0</td>\n",
       "      <td>NaN</td>\n",
       "    </tr>\n",
       "    <tr>\n",
       "      <th>2</th>\n",
       "      <td>NaN</td>\n",
       "      <td>Algeria</td>\n",
       "      <td>28.03390</td>\n",
       "      <td>1.659600</td>\n",
       "      <td>2020-01-22</td>\n",
       "      <td>0</td>\n",
       "      <td>0</td>\n",
       "      <td>0</td>\n",
       "      <td>0</td>\n",
       "      <td>Africa</td>\n",
       "      <td>NaN</td>\n",
       "      <td>NaN</td>\n",
       "      <td>0</td>\n",
       "      <td>0</td>\n",
       "      <td>0</td>\n",
       "      <td>0</td>\n",
       "      <td>NaN</td>\n",
       "    </tr>\n",
       "    <tr>\n",
       "      <th>3</th>\n",
       "      <td>NaN</td>\n",
       "      <td>Andorra</td>\n",
       "      <td>42.50630</td>\n",
       "      <td>1.521800</td>\n",
       "      <td>2020-01-22</td>\n",
       "      <td>0</td>\n",
       "      <td>0</td>\n",
       "      <td>0</td>\n",
       "      <td>0</td>\n",
       "      <td>Europe</td>\n",
       "      <td>NaN</td>\n",
       "      <td>NaN</td>\n",
       "      <td>0</td>\n",
       "      <td>0</td>\n",
       "      <td>0</td>\n",
       "      <td>0</td>\n",
       "      <td>NaN</td>\n",
       "    </tr>\n",
       "    <tr>\n",
       "      <th>4</th>\n",
       "      <td>NaN</td>\n",
       "      <td>Angola</td>\n",
       "      <td>-11.20270</td>\n",
       "      <td>17.873900</td>\n",
       "      <td>2020-01-22</td>\n",
       "      <td>0</td>\n",
       "      <td>0</td>\n",
       "      <td>0</td>\n",
       "      <td>0</td>\n",
       "      <td>Africa</td>\n",
       "      <td>NaN</td>\n",
       "      <td>NaN</td>\n",
       "      <td>0</td>\n",
       "      <td>0</td>\n",
       "      <td>0</td>\n",
       "      <td>0</td>\n",
       "      <td>NaN</td>\n",
       "    </tr>\n",
       "  </tbody>\n",
       "</table>\n",
       "</div>"
      ],
      "text/plain": [
       "  Province/State Country/Region       Lat       Long       Date  Confirmed  \\\n",
       "0            NaN    Afghanistan  33.93911  67.709953 2020-01-22          0   \n",
       "1            NaN        Albania  41.15330  20.168300 2020-01-22          0   \n",
       "2            NaN        Algeria  28.03390   1.659600 2020-01-22          0   \n",
       "3            NaN        Andorra  42.50630   1.521800 2020-01-22          0   \n",
       "4            NaN         Angola -11.20270  17.873900 2020-01-22          0   \n",
       "\n",
       "   Deaths  Recovered  Active             WHO Region  death_rate  \\\n",
       "0       0          0       0  Eastern Mediterranean         NaN   \n",
       "1       0          0       0                 Europe         NaN   \n",
       "2       0          0       0                 Africa         NaN   \n",
       "3       0          0       0                 Europe         NaN   \n",
       "4       0          0       0                 Africa         NaN   \n",
       "\n",
       "   recovery_rate  high_risk  confirmed_quartile  active_cases  \\\n",
       "0            NaN          0                   0             0   \n",
       "1            NaN          0                   0             0   \n",
       "2            NaN          0                   0             0   \n",
       "3            NaN          0                   0             0   \n",
       "4            NaN          0                   0             0   \n",
       "\n",
       "   above_average_confirmed Continent  \n",
       "0                        0       NaN  \n",
       "1                        0       NaN  \n",
       "2                        0       NaN  \n",
       "3                        0       NaN  \n",
       "4                        0       NaN  "
      ]
     },
     "execution_count": 80,
     "metadata": {},
     "output_type": "execute_result"
    }
   ],
   "source": [
    "data1.head()"
   ]
  },
  {
   "cell_type": "markdown",
   "id": "a6098011",
   "metadata": {},
   "source": [
    "Part 7 – SQL Simulation in Pandas"
   ]
  },
  {
   "cell_type": "code",
   "execution_count": 81,
   "id": "76b74558",
   "metadata": {},
   "outputs": [],
   "source": [
    "high_death_rate = data1[data1['death_rate'] > 5]\n"
   ]
  },
  {
   "cell_type": "code",
   "execution_count": 45,
   "id": "d464ba69",
   "metadata": {},
   "outputs": [],
   "source": [
    "sorted_by_confirmed = data1.sort_values(by='Confirmed', ascending=False)\n"
   ]
  },
  {
   "cell_type": "code",
   "execution_count": 87,
   "id": "0d56b7a1",
   "metadata": {},
   "outputs": [],
   "source": [
    "data1['Continent'] = data1['WHO Region']"
   ]
  },
  {
   "cell_type": "code",
   "execution_count": 47,
   "id": "e6ed25d9",
   "metadata": {},
   "outputs": [],
   "source": [
    "avg_death_rate_by_continent = data1.groupby('Continent')['death_rate'].mean().reset_index()\n"
   ]
  },
  {
   "cell_type": "code",
   "execution_count": 48,
   "id": "1b087dc6",
   "metadata": {},
   "outputs": [],
   "source": [
    "top5_recovery_rate = data1.sort_values(by='recovery_rate', ascending=False).head(5)\n"
   ]
  },
  {
   "cell_type": "code",
   "execution_count": 49,
   "id": "46f9a45e",
   "metadata": {},
   "outputs": [],
   "source": [
    "low_risk_high_cases = data1[(data1['Confirmed'] > 1_000_000) & (data1['death_rate'] < 2)]\n"
   ]
  },
  {
   "cell_type": "code",
   "execution_count": 89,
   "id": "a4d5c938",
   "metadata": {},
   "outputs": [
    {
     "name": "stdout",
     "output_type": "stream",
     "text": [
      "               Province/State  Country/Region        Lat        Long  \\\n",
      "318                     Hebei           China  39.549000  116.130600   \n",
      "579                     Hebei           China  39.549000  116.130600   \n",
      "580              Heilongjiang           China  47.862000  127.761500   \n",
      "840                     Hebei           China  39.549000  116.130600   \n",
      "841              Heilongjiang           China  47.862000  127.761500   \n",
      "...                       ...             ...        ...         ...   \n",
      "49028                     NaN  United Kingdom  55.378100   -3.436000   \n",
      "49039                     NaN           Syria  34.802075   38.996815   \n",
      "49053  British Virgin Islands  United Kingdom  18.420700  -64.640000   \n",
      "49062                     NaN  Western Sahara  24.215500  -12.885800   \n",
      "49064                     NaN           Yemen  15.552727   48.516388   \n",
      "\n",
      "            Date  Confirmed  Deaths  Recovered  Active             WHO Region  \\\n",
      "318   2020-01-23          1       1          0       0        Western Pacific   \n",
      "579   2020-01-24          2       1          0       1        Western Pacific   \n",
      "580   2020-01-24          4       1          0       3        Western Pacific   \n",
      "840   2020-01-25          8       1          0       7        Western Pacific   \n",
      "841   2020-01-25          9       1          0       8        Western Pacific   \n",
      "...          ...        ...     ...        ...     ...                    ...   \n",
      "49028 2020-07-27     300111   45759          0  254352                 Europe   \n",
      "49039 2020-07-27        674      40          0     634  Eastern Mediterranean   \n",
      "49053 2020-07-27          8       1          7       0                 Europe   \n",
      "49062 2020-07-27         10       1          8       1                 Africa   \n",
      "49064 2020-07-27       1691     483        833     375  Eastern Mediterranean   \n",
      "\n",
      "       death_rate  recovery_rate  high_risk  confirmed_quartile  active_cases  \\\n",
      "318    100.000000       0.000000          1                   0             0   \n",
      "579     50.000000       0.000000          1                   0             1   \n",
      "580     25.000000       0.000000          1                   0             3   \n",
      "840     12.500000       0.000000          1                   1             7   \n",
      "841     11.111111       0.000000          1                   1             8   \n",
      "...           ...            ...        ...                 ...           ...   \n",
      "49028   15.247358       0.000000          1                   3        254352   \n",
      "49039    5.934718       0.000000          1                   2           634   \n",
      "49053   12.500000      87.500000          1                   1             0   \n",
      "49062   10.000000      80.000000          1                   1             1   \n",
      "49064   28.562980      49.260792          1                   3           375   \n",
      "\n",
      "       above_average_confirmed Continent  \n",
      "318                          0      Asia  \n",
      "579                          0      Asia  \n",
      "580                          0      Asia  \n",
      "840                          0      Asia  \n",
      "841                          0      Asia  \n",
      "...                        ...       ...  \n",
      "49028                        1       NaN  \n",
      "49039                        0       NaN  \n",
      "49053                        0       NaN  \n",
      "49062                        0       NaN  \n",
      "49064                        0       NaN  \n",
      "\n",
      "[6989 rows x 17 columns] \n",
      "\n",
      "      Province/State       Country/Region        Lat        Long       Date  \\\n",
      "49030            NaN                   US  40.000000 -100.000000 2020-07-27   \n",
      "48769            NaN                   US  40.000000 -100.000000 2020-07-26   \n",
      "48508            NaN                   US  40.000000 -100.000000 2020-07-25   \n",
      "48247            NaN                   US  40.000000 -100.000000 2020-07-24   \n",
      "47986            NaN                   US  40.000000 -100.000000 2020-07-23   \n",
      "...              ...                  ...        ...         ...        ...   \n",
      "43            Quebec               Canada  52.939900  -73.549100 2020-01-22   \n",
      "5                NaN  Antigua and Barbuda  17.060800  -61.796400 2020-01-22   \n",
      "0                NaN          Afghanistan  33.939110   67.709953 2020-01-22   \n",
      "19               NaN              Bahrain  26.027500   50.550000 2020-01-22   \n",
      "18               NaN              Bahamas  25.025885  -78.035889 2020-01-22   \n",
      "\n",
      "       Confirmed  Deaths  Recovered   Active             WHO Region  \\\n",
      "49030    4290259  148011    1325804  2816444               Americas   \n",
      "48769    4233923  146935    1297863  2789125               Americas   \n",
      "48508    4178970  146465    1279414  2753091               Americas   \n",
      "48247    4112531  145560    1261624  2705347               Americas   \n",
      "47986    4038816  144430    1233269  2661117               Americas   \n",
      "...          ...     ...        ...      ...                    ...   \n",
      "43             0       0          0        0               Americas   \n",
      "5              0       0          0        0               Americas   \n",
      "0              0       0          0        0  Eastern Mediterranean   \n",
      "19             0       0          0        0  Eastern Mediterranean   \n",
      "18             0       0          0        0               Americas   \n",
      "\n",
      "       death_rate  recovery_rate  high_risk  confirmed_quartile  active_cases  \\\n",
      "49030    3.449932      30.902656          0                   3       2816444   \n",
      "48769    3.470422      30.653911          0                   3       2789125   \n",
      "48508    3.504811      30.615534          0                   3       2753091   \n",
      "48247    3.539426      30.677556          0                   3       2705347   \n",
      "47986    3.576048      30.535409          0                   3       2661117   \n",
      "...           ...            ...        ...                 ...           ...   \n",
      "43            NaN            NaN          0                   0             0   \n",
      "5             NaN            NaN          0                   0             0   \n",
      "0             NaN            NaN          0                   0             0   \n",
      "19            NaN            NaN          0                   0             0   \n",
      "18            NaN            NaN          0                   0             0   \n",
      "\n",
      "       above_average_confirmed  \n",
      "49030                        1  \n",
      "48769                        1  \n",
      "48508                        1  \n",
      "48247                        1  \n",
      "47986                        1  \n",
      "...                        ...  \n",
      "43                           0  \n",
      "5                            0  \n",
      "0                            0  \n",
      "19                           0  \n",
      "18                           0  \n",
      "\n",
      "[49068 rows x 16 columns] \n",
      "\n",
      "       Continent  death_rate\n",
      "0         Africa    1.405756\n",
      "1           Asia    1.078722\n",
      "2         Europe    0.799057\n",
      "3  South America    4.314801 \n",
      "\n",
      "                    Province/State  Country/Region        Lat       Long  \\\n",
      "47192                          NaN          Uganda   1.373333  32.290275   \n",
      "14051                    Gibraltar  United Kingdom  36.140800  -5.353600   \n",
      "49059  Falkland Islands (Malvinas)  United Kingdom -51.796300 -59.523600   \n",
      "21218                        Tibet           China  31.692700  88.092400   \n",
      "40163                          NaN         Grenada  12.116500 -61.679000   \n",
      "\n",
      "            Date  Confirmed  Deaths  Recovered  Active       WHO Region  \\\n",
      "47192 2020-07-20       1069       0       1071      -2           Africa   \n",
      "14051 2020-03-15          1       0          1       0           Europe   \n",
      "49059 2020-07-27         13       0         13       0           Europe   \n",
      "21218 2020-04-12          1       0          1       0  Western Pacific   \n",
      "40163 2020-06-23         23       0         23       0         Americas   \n",
      "\n",
      "       death_rate  recovery_rate  high_risk  confirmed_quartile  active_cases  \\\n",
      "47192         0.0     100.187091          0                   2            -2   \n",
      "14051         0.0     100.000000          0                   0             0   \n",
      "49059         0.0     100.000000          0                   1             0   \n",
      "21218         0.0     100.000000          0                   0             0   \n",
      "40163         0.0     100.000000          0                   1             0   \n",
      "\n",
      "       above_average_confirmed Continent  \n",
      "47192                        0       NaN  \n",
      "14051                        0       NaN  \n",
      "49059                        0       NaN  \n",
      "21218                        0      Asia  \n",
      "40163                        0       NaN   \n",
      "\n",
      "Empty DataFrame\n",
      "Columns: [Province/State, Country/Region, Lat, Long, Date, Confirmed, Deaths, Recovered, Active, WHO Region, death_rate, recovery_rate, high_risk, confirmed_quartile, active_cases, above_average_confirmed, Continent]\n",
      "Index: [] \n",
      "\n"
     ]
    }
   ],
   "source": [
    "print( high_death_rate,\"\\n\")\n",
    "print(sorted_by_confirmed,\"\\n\")\n",
    "print(avg_death_rate_by_continent,\"\\n\")\n",
    "print(top5_recovery_rate,\"\\n\")\n",
    "print(low_risk_high_cases, \"\\n\")"
   ]
  },
  {
   "cell_type": "markdown",
   "id": "4ea629c3",
   "metadata": {},
   "source": [
    "Part 8 – Insights"
   ]
  },
  {
   "cell_type": "code",
   "execution_count": 91,
   "id": "1e0afb92",
   "metadata": {},
   "outputs": [],
   "source": [
    "top_country = data1.sort_values('Confirmed', ascending=False).iloc[0]"
   ]
  },
  {
   "cell_type": "code",
   "execution_count": 96,
   "id": "293a2b52",
   "metadata": {},
   "outputs": [
    {
     "name": "stdout",
     "output_type": "stream",
     "text": [
      "Highest confirmed cases: US\n"
     ]
    }
   ],
   "source": [
    "print(f\"Highest confirmed cases: {top_country['Country/Region']}\")"
   ]
  },
  {
   "cell_type": "code",
   "execution_count": 97,
   "id": "542046b5",
   "metadata": {},
   "outputs": [
    {
     "name": "stdout",
     "output_type": "stream",
     "text": [
      "Highest death rate: Belgium (16.4%)\n"
     ]
    }
   ],
   "source": [
    "high_death = data1[data1['Confirmed'] > 10000].sort_values('death_rate', ascending=False).iloc[0]\n",
    "print(f\"Highest death rate: {high_death['Country/Region']} ({high_death['death_rate']:.1f}%)\")"
   ]
  },
  {
   "cell_type": "code",
   "execution_count": 98,
   "id": "9e4e2f24",
   "metadata": {},
   "outputs": [
    {
     "name": "stdout",
     "output_type": "stream",
     "text": [
      "\n",
      "3. Best recovery continent: Western Pacific\n"
     ]
    }
   ],
   "source": [
    "best_recovery_continent = data1.groupby('Continent')['recovery_rate'].mean().idxmax()\n",
    "print(f\"\\n3. Best recovery continent: {best_recovery_continent}\")"
   ]
  },
  {
   "cell_type": "code",
   "execution_count": 101,
   "id": "56c463bd",
   "metadata": {},
   "outputs": [
    {
     "name": "stdout",
     "output_type": "stream",
     "text": [
      "Correlation between cases and deaths: 0.91\n"
     ]
    }
   ],
   "source": [
    "corr = data1[['Confirmed', 'Deaths']].corr().iloc[0,1]\n",
    "print(f\"Correlation between cases and deaths: {corr:.2f}\")"
   ]
  },
  {
   "cell_type": "code",
   "execution_count": 103,
   "id": "764b8064",
   "metadata": {},
   "outputs": [
    {
     "name": "stdout",
     "output_type": "stream",
     "text": [
      "High death rate countries are at 50.0th percentile for case counts\n"
     ]
    }
   ],
   "source": [
    "high_death_df = data1[data1['death_rate'] > 5]\n",
    "case_percentile = (high_death_df['Confirmed'].rank(pct=True).mean()*100)\n",
    "print(f\"High death rate countries are at {case_percentile:.1f}th percentile for case counts\")"
   ]
  },
  {
   "cell_type": "code",
   "execution_count": 104,
   "id": "cc0e2ec6",
   "metadata": {},
   "outputs": [
    {
     "name": "stdout",
     "output_type": "stream",
     "text": [
      "\n",
      "6. Average death rate by case volume quartile:\n",
      "confirmed_quartile\n",
      "0    1.977964\n",
      "1    2.643458\n",
      "2    2.150164\n",
      "3    3.765716\n",
      "Name: death_rate, dtype: float64\n"
     ]
    }
   ],
   "source": [
    "quartile_death = data1.groupby('confirmed_quartile')['death_rate'].mean()\n",
    "print(\"\\n6. Average death rate by case volume quartile:\")\n",
    "print(quartile_death)"
   ]
  },
  {
   "cell_type": "code",
   "execution_count": 105,
   "id": "3a8e7179",
   "metadata": {},
   "outputs": [
    {
     "data": {
      "image/png": "[encoded data removed]",
      "text/plain": [
       "<Figure size 1200x600 with 1 Axes>"
      ]
     },
     "metadata": {},
     "output_type": "display_data"
    }
   ],
   "source": [
    "data1['Date'] = pd.to_datetime(data1['Date'])\n",
    "global_daily = data1.groupby('Date')[['Confirmed', 'Recovered']].sum()\n",
    "global_daily['recovery_rate'] = (global_daily['Recovered'] / global_daily['Confirmed']) * 100\n",
    "\n",
    "plt.figure(figsize=(12,6))\n",
    "global_daily['recovery_rate'].plot()\n",
    "plt.title(\"Global Recovery Rate Over Time\")\n",
    "plt.ylabel(\"Recovery Rate (%)\")\n",
    "plt.axhline(y=global_daily['recovery_rate'].max(), color='g', linestyle='--', label='Peak')\n",
    "plt.legend()\n",
    "plt.show()"
   ]
  }
 ],
 "metadata": {
  "kernelspec": {
   "display_name": "base",
   "language": "python",
   "name": "python3"
  },
  "language_info": {
   "codemirror_mode": {
    "name": "ipython",
    "version": 3
   },
   "file_extension": ".py",
   "mimetype": "text/x-python",
   "name": "python",
   "nbconvert_exporter": "python",
   "pygments_lexer": "ipython3",
   "version": "3.13.5"
  }
 },
 "nbformat": 4,
 "nbformat_minor": 5
}
